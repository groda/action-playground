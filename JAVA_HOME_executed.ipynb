{
 "cells": [
  {
   "cell_type": "markdown",
   "metadata": {
    "colab_type": "text",
    "id": "view-in-github"
   },
   "source": [
    "<a href=\"https://colab.research.google.com/github/groda/action-playground/blob/main/JAVA_HOME.ipynb\" target=\"_parent\"><img src=\"https://colab.research.google.com/assets/colab-badge.svg\" alt=\"Open In Colab\"/></a>"
   ]
  },
  {
   "cell_type": "markdown",
   "metadata": {
    "id": "qFfOrktMPq8M"
   },
   "source": [
    "## Check the available Java version\n"
   ]
  },
  {
   "cell_type": "markdown",
   "metadata": {
    "id": "EuWqBiV89ryq"
   },
   "source": [
    "Check if Java version is one of `8`, `11`"
   ]
  },
  {
   "cell_type": "code",
   "execution_count": 1,
   "metadata": {
    "colab": {
     "base_uri": "https://localhost:8080/"
    },
    "execution": {
     "iopub.execute_input": "2025-07-12T14:42:33.685533Z",
     "iopub.status.busy": "2025-07-12T14:42:33.685021Z",
     "iopub.status.idle": "2025-07-12T14:42:34.592238Z",
     "shell.execute_reply": "2025-07-12T14:42:34.591636Z"
    },
    "id": "C7X0EZaMPrsD",
    "outputId": "85dd4fec-fab5-460a-eb0d-22d6f131924e"
   },
   "outputs": [
    {
     "name": "stdout",
     "output_type": "stream",
     "text": [
      "openjdk version \"11.0.27\" 2025-04-15\r\n",
      "OpenJDK Runtime Environment Temurin-11.0.27+6 (build 11.0.27+6)\r\n",
      "OpenJDK 64-Bit Server VM Temurin-11.0.27+6 (build 11.0.27+6, mixed mode)\r\n"
     ]
    }
   ],
   "source": [
    "!java -version"
   ]
  },
  {
   "cell_type": "code",
   "execution_count": 2,
   "metadata": {
    "colab": {
     "base_uri": "https://localhost:8080/"
    },
    "execution": {
     "iopub.execute_input": "2025-07-12T14:42:34.594645Z",
     "iopub.status.busy": "2025-07-12T14:42:34.594309Z",
     "iopub.status.idle": "2025-07-12T14:42:34.662051Z",
     "shell.execute_reply": "2025-07-12T14:42:34.661545Z"
    },
    "id": "lABuOV124G4x",
    "outputId": "d8941a2f-b3d5-4d5c-9edf-28b6a6f909b4"
   },
   "outputs": [
    {
     "name": "stdout",
     "output_type": "stream",
     "text": [
      "Java version is one of 8, 11 ✓\n"
     ]
    }
   ],
   "source": [
    "%%bash\n",
    "JAVA_MAJOR_VERSION=$(java -version 2>&1 | grep -m1 -Po '(\\d+\\.)+\\d+' | cut -d '.' -f1)\n",
    "if [[ $JAVA_MAJOR_VERSION -eq 8 || $JAVA_MAJOR_VERSION -eq 11 ]]\n",
    " then\n",
    " echo \"Java version is one of 8, 11 ✓\"\n",
    " fi"
   ]
  },
  {
   "cell_type": "markdown",
   "metadata": {
    "id": "pWROofISgKKW"
   },
   "source": [
    "Find the variable for the environment variable `JAVA_HOME`"
   ]
  },
  {
   "cell_type": "markdown",
   "metadata": {
    "id": "uH4AGbkLP3iK"
   },
   "source": [
    "Find the path for the environment variable `JAVA_HOME`"
   ]
  },
  {
   "cell_type": "code",
   "execution_count": 3,
   "metadata": {
    "colab": {
     "base_uri": "https://localhost:8080/"
    },
    "execution": {
     "iopub.execute_input": "2025-07-12T14:42:34.664290Z",
     "iopub.status.busy": "2025-07-12T14:42:34.663928Z",
     "iopub.status.idle": "2025-07-12T14:42:34.776003Z",
     "shell.execute_reply": "2025-07-12T14:42:34.775440Z"
    },
    "id": "mCmk5GOqv0Y-",
    "outputId": "1d0d218e-483c-4a0d-b525-88a3e5fc89da"
   },
   "outputs": [
    {
     "name": "stdout",
     "output_type": "stream",
     "text": [
      "/usr/lib/jvm/temurin-11-jdk-amd64/bin/java\r\n"
     ]
    }
   ],
   "source": [
    "!readlink -f $(which java)"
   ]
  },
  {
   "cell_type": "markdown",
   "metadata": {
    "id": "rGHKH3Vu9Nwl"
   },
   "source": [
    "Extract JAVA_HOME from the Java path by removing the `bin/java` part in the end"
   ]
  },
  {
   "cell_type": "code",
   "execution_count": 4,
   "metadata": {
    "colab": {
     "base_uri": "https://localhost:8080/"
    },
    "execution": {
     "iopub.execute_input": "2025-07-12T14:42:34.778064Z",
     "iopub.status.busy": "2025-07-12T14:42:34.777827Z",
     "iopub.status.idle": "2025-07-12T14:42:34.796413Z",
     "shell.execute_reply": "2025-07-12T14:42:34.795966Z"
    },
    "id": "Dd7en2Cv68ce",
    "outputId": "5c91f421-385c-4f59-a9ac-f17c018ee63b"
   },
   "outputs": [
    {
     "name": "stdout",
     "output_type": "stream",
     "text": [
      "/usr/lib/jvm/temurin-11-jdk-amd64\n"
     ]
    }
   ],
   "source": [
    "%%bash\n",
    "JAVA_HOME=$(readlink -f $(which java) | sed 's/\\/bin\\/java$//')\n",
    "echo $JAVA_HOME"
   ]
  },
  {
   "cell_type": "markdown",
   "metadata": {
    "id": "Hck9zJ3kQK2X"
   },
   "source": [
    "We're going to use `JAVA_HOME=/usr/lib/jvm/java-11-openjdk-amd64`.\n",
    "\n",
    "Use `%env%` to set the variable for the current notebook session."
   ]
  },
  {
   "cell_type": "code",
   "execution_count": 5,
   "metadata": {
    "colab": {
     "base_uri": "https://localhost:8080/"
    },
    "execution": {
     "iopub.execute_input": "2025-07-12T14:42:34.798371Z",
     "iopub.status.busy": "2025-07-12T14:42:34.798019Z",
     "iopub.status.idle": "2025-07-12T14:42:34.907590Z",
     "shell.execute_reply": "2025-07-12T14:42:34.906852Z"
    },
    "id": "5j60zKQJ5PRb",
    "outputId": "dcb14894-c27c-431e-dd72-a586067bfd1e"
   },
   "outputs": [
    {
     "name": "stdout",
     "output_type": "stream",
     "text": [
      "/usr/lib/jvm/temurin-17-jdk-amd64\r\n"
     ]
    }
   ],
   "source": [
    "!echo $JAVA_HOME"
   ]
  },
  {
   "cell_type": "code",
   "execution_count": 6,
   "metadata": {
    "colab": {
     "base_uri": "https://localhost:8080/"
    },
    "execution": {
     "iopub.execute_input": "2025-07-12T14:42:34.909657Z",
     "iopub.status.busy": "2025-07-12T14:42:34.909448Z",
     "iopub.status.idle": "2025-07-12T14:42:34.919492Z",
     "shell.execute_reply": "2025-07-12T14:42:34.919040Z"
    },
    "id": "wCd91ArL5R22",
    "outputId": "16c16475-b5b4-4819-cc7f-88f7f06d3f88"
   },
   "outputs": [
    {
     "name": "stdout",
     "output_type": "stream",
     "text": [
      "/usr/lib/jvm/temurin-17-jdk-amd64\n"
     ]
    }
   ],
   "source": [
    "%%bash\n",
    "echo $JAVA_HOME"
   ]
  },
  {
   "cell_type": "code",
   "execution_count": 7,
   "metadata": {
    "colab": {
     "base_uri": "https://localhost:8080/"
    },
    "execution": {
     "iopub.execute_input": "2025-07-12T14:42:34.921371Z",
     "iopub.status.busy": "2025-07-12T14:42:34.921056Z",
     "iopub.status.idle": "2025-07-12T14:42:34.989110Z",
     "shell.execute_reply": "2025-07-12T14:42:34.988611Z"
    },
    "id": "0PjvjQH15VUd",
    "outputId": "80740ff9-a79c-4a63-afd1-244ffb720e3c"
   },
   "outputs": [
    {
     "name": "stderr",
     "output_type": "stream",
     "text": [
      "openjdk version \"11.0.27\" 2025-04-15\n",
      "OpenJDK Runtime Environment Temurin-11.0.27+6 (build 11.0.27+6)"
     ]
    },
    {
     "name": "stderr",
     "output_type": "stream",
     "text": [
      "\n",
      "OpenJDK 64-Bit Server VM Temurin-11.0.27+6 (build 11.0.27+6, mixed mode)\n"
     ]
    }
   ],
   "source": [
    "%%bash\n",
    "java -version"
   ]
  }
 ],
 "metadata": {
  "colab": {
   "authorship_tag": "ABX9TyMCwUrw2/qA7zTpHyETcsyM",
   "include_colab_link": true,
   "provenance": []
  },
  "kernelspec": {
   "display_name": "Python 3",
   "name": "python3"
  },
  "language_info": {
   "codemirror_mode": {
    "name": "ipython",
    "version": 3
   },
   "file_extension": ".py",
   "mimetype": "text/x-python",
   "name": "python",
   "nbconvert_exporter": "python",
   "pygments_lexer": "ipython3",
   "version": "3.13.5"
  }
 },
 "nbformat": 4,
 "nbformat_minor": 0
}
