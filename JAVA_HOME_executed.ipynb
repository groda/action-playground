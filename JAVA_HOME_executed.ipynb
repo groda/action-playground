{
 "cells": [
  {
   "cell_type": "markdown",
   "metadata": {
    "colab_type": "text",
    "id": "view-in-github"
   },
   "source": [
    "<a href=\"https://colab.research.google.com/github/groda/action-playground/blob/main/JAVA_HOME.ipynb\" target=\"_parent\"><img src=\"https://colab.research.google.com/assets/colab-badge.svg\" alt=\"Open In Colab\"/></a>"
   ]
  },
  {
   "cell_type": "markdown",
   "metadata": {
    "id": "qFfOrktMPq8M"
   },
   "source": [
    "## Check the available Java version\n"
   ]
  },
  {
   "cell_type": "markdown",
   "metadata": {
    "id": "EuWqBiV89ryq"
   },
   "source": [
    "Check if Java version is one of `8`, `11`"
   ]
  },
  {
   "cell_type": "code",
   "execution_count": 1,
   "metadata": {
    "colab": {
     "base_uri": "https://localhost:8080/"
    },
    "execution": {
     "iopub.execute_input": "2025-07-12T14:17:54.126670Z",
     "iopub.status.busy": "2025-07-12T14:17:54.126484Z",
     "iopub.status.idle": "2025-07-12T14:17:55.136269Z",
     "shell.execute_reply": "2025-07-12T14:17:55.135599Z"
    },
    "id": "C7X0EZaMPrsD",
    "outputId": "85dd4fec-fab5-460a-eb0d-22d6f131924e"
   },
   "outputs": [
    {
     "name": "stdout",
     "output_type": "stream",
     "text": [
      "openjdk version \"11.0.27\" 2025-04-15\r\n",
      "OpenJDK Runtime Environment Temurin-11.0.27+6 (build 11.0.27+6)\r\n",
      "OpenJDK 64-Bit Server VM Temurin-11.0.27+6 (build 11.0.27+6, mixed mode)\r\n"
     ]
    }
   ],
   "source": [
    "!java -version"
   ]
  },
  {
   "cell_type": "code",
   "execution_count": 2,
   "metadata": {
    "colab": {
     "base_uri": "https://localhost:8080/"
    },
    "execution": {
     "iopub.execute_input": "2025-07-12T14:17:55.138696Z",
     "iopub.status.busy": "2025-07-12T14:17:55.138308Z",
     "iopub.status.idle": "2025-07-12T14:17:55.200940Z",
     "shell.execute_reply": "2025-07-12T14:17:55.200416Z"
    },
    "id": "lABuOV124G4x",
    "outputId": "d8941a2f-b3d5-4d5c-9edf-28b6a6f909b4"
   },
   "outputs": [
    {
     "name": "stdout",
     "output_type": "stream",
     "text": [
      "Java version is one of 8, 11 ✓\n"
     ]
    }
   ],
   "source": [
    "%%bash\n",
    "JAVA_MAJOR_VERSION=$(java -version 2>&1 | grep -m1 -Po '(\\d+\\.)+\\d+' | cut -d '.' -f1)\n",
    "if [[ $JAVA_MAJOR_VERSION -eq 8 || $JAVA_MAJOR_VERSION -eq 11 ]]\n",
    " then\n",
    " echo \"Java version is one of 8, 11 ✓\"\n",
    " fi"
   ]
  },
  {
   "cell_type": "markdown",
   "metadata": {
    "id": "pWROofISgKKW"
   },
   "source": [
    "Find the variable for the environment variable `JAVA_HOME`"
   ]
  },
  {
   "cell_type": "markdown",
   "metadata": {
    "id": "uH4AGbkLP3iK"
   },
   "source": [
    "Find the path for the environment variable `JAVA_HOME`"
   ]
  },
  {
   "cell_type": "code",
   "execution_count": 3,
   "metadata": {
    "colab": {
     "base_uri": "https://localhost:8080/"
    },
    "execution": {
     "iopub.execute_input": "2025-07-12T14:17:55.203113Z",
     "iopub.status.busy": "2025-07-12T14:17:55.202729Z",
     "iopub.status.idle": "2025-07-12T14:17:55.314735Z",
     "shell.execute_reply": "2025-07-12T14:17:55.314175Z"
    },
    "id": "mCmk5GOqv0Y-",
    "outputId": "1d0d218e-483c-4a0d-b525-88a3e5fc89da"
   },
   "outputs": [
    {
     "name": "stdout",
     "output_type": "stream",
     "text": [
      "/usr/lib/jvm/temurin-11-jdk-amd64/bin/java\r\n"
     ]
    }
   ],
   "source": [
    "!readlink -f $(which java)"
   ]
  },
  {
   "cell_type": "markdown",
   "metadata": {
    "id": "rGHKH3Vu9Nwl"
   },
   "source": [
    "Extract JAVA_HOME from the Java path by removing the `bin/java` part in the end"
   ]
  },
  {
   "cell_type": "code",
   "execution_count": 4,
   "metadata": {
    "colab": {
     "base_uri": "https://localhost:8080/"
    },
    "execution": {
     "iopub.execute_input": "2025-07-12T14:17:55.316753Z",
     "iopub.status.busy": "2025-07-12T14:17:55.316536Z",
     "iopub.status.idle": "2025-07-12T14:17:55.330407Z",
     "shell.execute_reply": "2025-07-12T14:17:55.329971Z"
    },
    "id": "Dd7en2Cv68ce",
    "outputId": "5c91f421-385c-4f59-a9ac-f17c018ee63b"
   },
   "outputs": [
    {
     "name": "stdout",
     "output_type": "stream",
     "text": [
      "/usr/lib/jvm/temurin-11-jdk-amd64\n"
     ]
    }
   ],
   "source": [
    "%%bash\n",
    "JAVA_HOME=$(readlink -f $(which java) | sed 's/\\/bin\\/java$//')\n",
    "echo $JAVA_HOME"
   ]
  },
  {
   "cell_type": "markdown",
   "metadata": {
    "id": "Hck9zJ3kQK2X"
   },
   "source": [
    "We're going to use `JAVA_HOME=/usr/lib/jvm/java-11-openjdk-amd64`.\n",
    "\n",
    "Use `%env%` to set the variable for the current notebook session."
   ]
  },
  {
   "cell_type": "code",
   "execution_count": 5,
   "metadata": {
    "colab": {
     "base_uri": "https://localhost:8080/"
    },
    "execution": {
     "iopub.execute_input": "2025-07-12T14:17:55.332280Z",
     "iopub.status.busy": "2025-07-12T14:17:55.331960Z",
     "iopub.status.idle": "2025-07-12T14:17:55.441343Z",
     "shell.execute_reply": "2025-07-12T14:17:55.440795Z"
    },
    "id": "5j60zKQJ5PRb",
    "outputId": "dcb14894-c27c-431e-dd72-a586067bfd1e"
   },
   "outputs": [
    {
     "name": "stdout",
     "output_type": "stream",
     "text": [
      "/usr/lib/jvm/temurin-17-jdk-amd64\r\n"
     ]
    }
   ],
   "source": [
    "!echo $JAVA_HOME"
   ]
  },
  {
   "cell_type": "code",
   "execution_count": 6,
   "metadata": {
    "colab": {
     "base_uri": "https://localhost:8080/"
    },
    "execution": {
     "iopub.execute_input": "2025-07-12T14:17:55.443234Z",
     "iopub.status.busy": "2025-07-12T14:17:55.443032Z",
     "iopub.status.idle": "2025-07-12T14:17:55.452824Z",
     "shell.execute_reply": "2025-07-12T14:17:55.452379Z"
    },
    "id": "wCd91ArL5R22",
    "outputId": "16c16475-b5b4-4819-cc7f-88f7f06d3f88"
   },
   "outputs": [
    {
     "name": "stdout",
     "output_type": "stream",
     "text": [
      "/usr/lib/jvm/temurin-17-jdk-amd64\n"
     ]
    }
   ],
   "source": [
    "%%bash\n",
    "echo $JAVA_HOME"
   ]
  },
  {
   "cell_type": "code",
   "execution_count": 7,
   "metadata": {
    "colab": {
     "base_uri": "https://localhost:8080/"
    },
    "execution": {
     "iopub.execute_input": "2025-07-12T14:17:55.454584Z",
     "iopub.status.busy": "2025-07-12T14:17:55.454402Z",
     "iopub.status.idle": "2025-07-12T14:17:55.522591Z",
     "shell.execute_reply": "2025-07-12T14:17:55.522098Z"
    },
    "id": "0PjvjQH15VUd",
    "outputId": "80740ff9-a79c-4a63-afd1-244ffb720e3c"
   },
   "outputs": [
    {
     "name": "stderr",
     "output_type": "stream",
     "text": [
      "openjdk version \"11.0.27\" 2025-04-15\n"
     ]
    },
    {
     "name": "stderr",
     "output_type": "stream",
     "text": [
      "OpenJDK Runtime Environment Temurin-11.0.27+6 (build 11.0.27+6)\n"
     ]
    },
    {
     "name": "stderr",
     "output_type": "stream",
     "text": [
      "OpenJDK 64-Bit Server VM Temurin-11.0.27+6 (build 11.0.27+6, mixed mode)\n"
     ]
    }
   ],
   "source": [
    "%%bash\n",
    "java -version"
   ]
  }
 ],
 "metadata": {
  "colab": {
   "authorship_tag": "ABX9TyMCwUrw2/qA7zTpHyETcsyM",
   "include_colab_link": true,
   "provenance": []
  },
  "kernelspec": {
   "display_name": "Python 3",
   "name": "python3"
  },
  "language_info": {
   "codemirror_mode": {
    "name": "ipython",
    "version": 3
   },
   "file_extension": ".py",
   "mimetype": "text/x-python",
   "name": "python",
   "nbconvert_exporter": "python",
   "pygments_lexer": "ipython3",
   "version": "3.13.5"
  }
 },
 "nbformat": 4,
 "nbformat_minor": 0
}
